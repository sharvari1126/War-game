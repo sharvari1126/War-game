{
 "cells": [
  {
   "cell_type": "code",
   "execution_count": 1,
   "id": "e48750c0-2c4c-45c3-8263-135c445fb7ae",
   "metadata": {},
   "outputs": [],
   "source": [
    "import random\n",
    "\n",
    "suits = ('Hearts' , 'Diamonds' , 'Spades', 'Clubs')\n",
    "ranks = ('Two' , 'Three', 'Four', 'Five',  'Six', 'Seven', 'Eight', 'Nine', 'Ten', 'Jack', 'Queen', 'King', 'Ace')\n",
    "values = { 'Two': 2, 'Three': 3, 'Four':4, 'Five' : 5,  'Six' : 6, 'Seven': 7, 'Eight' : 8, 'Nine':9, 'Ten':10, 'Jack':11, 'Queen':12, 'King':13, 'Ace':14}"
   ]
  },
  {
   "cell_type": "code",
   "execution_count": 2,
   "id": "bafdc5b1-7528-4960-8e06-735381cf5651",
   "metadata": {},
   "outputs": [],
   "source": [
    "class Cards:\n",
    "\n",
    "    def __init__(self,suit,rank):\n",
    "        self.suit = suit\n",
    "        self.rank = rank\n",
    "        self.value = values[rank]\n",
    "\n",
    "    def __str__(self):\n",
    "            return self.rank + \" of \" + self.suit\n",
    "\n",
    "  \n",
    "    "
   ]
  },
  {
   "cell_type": "code",
   "execution_count": 3,
   "id": "7f170daf-d427-49bd-8ff6-e6aae6c3ce83",
   "metadata": {},
   "outputs": [
    {
     "data": {
      "text/plain": [
       "'Diamonds'"
      ]
     },
     "execution_count": 3,
     "metadata": {},
     "output_type": "execute_result"
    }
   ],
   "source": [
    "suits[1]\n"
   ]
  },
  {
   "cell_type": "code",
   "execution_count": 4,
   "id": "b4103a70-bff3-4300-af81-29c6b47fcf5b",
   "metadata": {},
   "outputs": [
    {
     "data": {
      "text/plain": [
       "'Three'"
      ]
     },
     "execution_count": 4,
     "metadata": {},
     "output_type": "execute_result"
    }
   ],
   "source": [
    "ranks[1]"
   ]
  },
  {
   "cell_type": "code",
   "execution_count": 5,
   "id": "11a38bf7-37cd-4443-b1ed-c929e102c5d6",
   "metadata": {},
   "outputs": [
    {
     "data": {
      "text/plain": [
       "3"
      ]
     },
     "execution_count": 5,
     "metadata": {},
     "output_type": "execute_result"
    }
   ],
   "source": [
    "values['Three']\n"
   ]
  },
  {
   "cell_type": "code",
   "execution_count": 6,
   "id": "3c225da4-801f-42c8-8d48-6ce76e810d7b",
   "metadata": {},
   "outputs": [],
   "source": [
    "my_card = Cards(suits[1],ranks[2])"
   ]
  },
  {
   "cell_type": "code",
   "execution_count": 7,
   "id": "b4a6da23-badf-4916-91a1-de9a1f39f3f6",
   "metadata": {},
   "outputs": [
    {
     "data": {
      "text/plain": [
       "<__main__.Cards at 0x1fba4464a40>"
      ]
     },
     "execution_count": 7,
     "metadata": {},
     "output_type": "execute_result"
    }
   ],
   "source": [
    "my_card\n"
   ]
  },
  {
   "cell_type": "code",
   "execution_count": 8,
   "id": "9e3c0320-2c5b-4de1-84f3-201de85c4056",
   "metadata": {},
   "outputs": [
    {
     "name": "stdout",
     "output_type": "stream",
     "text": [
      "Four of Diamonds\n"
     ]
    }
   ],
   "source": [
    "print(my_card)\n"
   ]
  },
  {
   "cell_type": "code",
   "execution_count": 9,
   "id": "01ea6257-c416-4306-bd3f-74a239b9866d",
   "metadata": {},
   "outputs": [],
   "source": [
    "class Deck:\n",
    "    def __init__(self):\n",
    "        self.all_cards = []\n",
    "        for suit in suits:\n",
    "            for rank in ranks:\n",
    "                self.all_cards.append(Cards(suit,rank))\n",
    "\n",
    "    def shuffle(self):\n",
    "        random.shuffle(self.all_cards)\n",
    "\n",
    "\n",
    "    def remove_one(self):\n",
    "        return self.all_cards.pop()\n",
    "\n",
    "\n",
    "\n",
    "\n",
    "                "
   ]
  },
  {
   "cell_type": "code",
   "execution_count": 10,
   "id": "9fcafa2c-1555-49c6-8d6e-a49225477d45",
   "metadata": {},
   "outputs": [
    {
     "data": {
      "text/plain": [
       "<__main__.Deck at 0x1fba4423350>"
      ]
     },
     "execution_count": 10,
     "metadata": {},
     "output_type": "execute_result"
    }
   ],
   "source": [
    "Deck()"
   ]
  },
  {
   "cell_type": "code",
   "execution_count": 11,
   "id": "455fbba8-c084-4a44-b30d-6765bc4c1d7f",
   "metadata": {},
   "outputs": [],
   "source": [
    "my_deck = Deck()"
   ]
  },
  {
   "cell_type": "code",
   "execution_count": 12,
   "id": "ac141e10-2f15-4ec7-aa89-160e774e4008",
   "metadata": {},
   "outputs": [
    {
     "data": {
      "text/plain": [
       "<__main__.Deck at 0x1fba43d6f60>"
      ]
     },
     "execution_count": 12,
     "metadata": {},
     "output_type": "execute_result"
    }
   ],
   "source": [
    "my_deck"
   ]
  },
  {
   "cell_type": "code",
   "execution_count": 13,
   "id": "dd1cb888-6005-4dfe-8ded-d428036548d5",
   "metadata": {},
   "outputs": [
    {
     "data": {
      "text/plain": [
       "52"
      ]
     },
     "execution_count": 13,
     "metadata": {},
     "output_type": "execute_result"
    }
   ],
   "source": [
    "len(my_deck.all_cards)"
   ]
  },
  {
   "cell_type": "code",
   "execution_count": 14,
   "id": "6beaa7c0-3186-4a2f-aa4c-285a7c2c1c70",
   "metadata": {},
   "outputs": [
    {
     "name": "stdout",
     "output_type": "stream",
     "text": [
      "Two of Hearts\n"
     ]
    }
   ],
   "source": [
    "print(my_deck.all_cards[0])"
   ]
  },
  {
   "cell_type": "code",
   "execution_count": 15,
   "id": "b11e17c5-af26-43a7-977b-33810b3ba3d2",
   "metadata": {},
   "outputs": [],
   "source": [
    "my_deck.shuffle()\n"
   ]
  },
  {
   "cell_type": "code",
   "execution_count": 16,
   "id": "86d58495-3587-4069-9509-bdbc537026f6",
   "metadata": {},
   "outputs": [
    {
     "name": "stdout",
     "output_type": "stream",
     "text": [
      "Nine of Spades\n"
     ]
    }
   ],
   "source": [
    "print(my_deck.all_cards[0])"
   ]
  },
  {
   "cell_type": "code",
   "execution_count": 17,
   "id": "4b6a341b-4b8e-448b-9f94-12817e4cafe5",
   "metadata": {},
   "outputs": [],
   "source": [
    "class Player:\n",
    "    def __init__(self,name):\n",
    "        self.name=name\n",
    "        self.all_cards = []\n",
    "\n",
    "    def add_cards(self,new_cards):\n",
    "        if type(new_cards)== type([]):\n",
    "            self.all_cards.extend(new_cards)\n",
    "        else :\n",
    "            self.all_cards.append(new_cards)\n",
    "        \n",
    "    def remove_card(self):\n",
    "        return self.all_cards.pop(0)\n",
    "\n",
    "    def __str__(self):\n",
    "        return f'Player {self.name} has {len(self.all_cards)} cards'"
   ]
  },
  {
   "cell_type": "code",
   "execution_count": 18,
   "id": "497943bb-c7ad-4a90-a3aa-fc0021f11c02",
   "metadata": {},
   "outputs": [],
   "source": [
    "player = Player(\"Shru\")"
   ]
  },
  {
   "cell_type": "code",
   "execution_count": 19,
   "id": "a71a86d9-a951-40af-b19f-b0693991ca9e",
   "metadata": {},
   "outputs": [
    {
     "data": {
      "text/plain": [
       "<__main__.Player at 0x1fba4467740>"
      ]
     },
     "execution_count": 19,
     "metadata": {},
     "output_type": "execute_result"
    }
   ],
   "source": [
    "player"
   ]
  },
  {
   "cell_type": "code",
   "execution_count": 20,
   "id": "74e4ac8f-32cd-413c-8daf-862a659dff9e",
   "metadata": {},
   "outputs": [
    {
     "name": "stdout",
     "output_type": "stream",
     "text": [
      "Player Shru has 0 cards\n"
     ]
    }
   ],
   "source": [
    "print(player)"
   ]
  },
  {
   "cell_type": "code",
   "execution_count": 21,
   "id": "f1283444-9cf0-4af0-9579-5c2381f9672d",
   "metadata": {},
   "outputs": [
    {
     "data": {
      "text/plain": [
       "<__main__.Cards at 0x1fba4464a40>"
      ]
     },
     "execution_count": 21,
     "metadata": {},
     "output_type": "execute_result"
    }
   ],
   "source": [
    "my_card"
   ]
  },
  {
   "cell_type": "code",
   "execution_count": 22,
   "id": "c9626d1e-c1c8-4bc0-83c2-a5a0fdfa6373",
   "metadata": {},
   "outputs": [],
   "source": [
    "player.add_cards(my_card)"
   ]
  },
  {
   "cell_type": "code",
   "execution_count": 23,
   "id": "7e7c9594-d356-46b3-a223-97150c7e0622",
   "metadata": {},
   "outputs": [
    {
     "name": "stdout",
     "output_type": "stream",
     "text": [
      "Player Shru has 1 cards\n"
     ]
    }
   ],
   "source": [
    "print(player)"
   ]
  },
  {
   "cell_type": "markdown",
   "id": "583518be-c9ed-41c6-ab69-f22734741927",
   "metadata": {},
   "source": [
    "Game Set up"
   ]
  },
  {
   "cell_type": "code",
   "execution_count": 24,
   "id": "8c3d8867-f155-4608-b591-bf1d4607d1dd",
   "metadata": {},
   "outputs": [],
   "source": [
    "player_one = Player(\"One\")\n",
    "player_two = Player(\"Two\")\n"
   ]
  },
  {
   "cell_type": "code",
   "execution_count": 25,
   "id": "9fb3fcfb-b2a8-411f-9fbb-a13d016db82e",
   "metadata": {},
   "outputs": [],
   "source": [
    "new_deck = Deck()\n",
    "new_deck.shuffle()"
   ]
  },
  {
   "cell_type": "code",
   "execution_count": 26,
   "id": "5c603753-c7be-4b32-9cbd-8a6e6e705dce",
   "metadata": {},
   "outputs": [],
   "source": [
    "for num in range(26):\n",
    "    player_one.add_cards(new_deck.remove_one())\n",
    "    player_two.add_cards(new_deck.remove_one())"
   ]
  },
  {
   "cell_type": "code",
   "execution_count": 27,
   "id": "c96c7dbf-2dc4-4030-8fbf-7719f5de247e",
   "metadata": {},
   "outputs": [
    {
     "data": {
      "text/plain": [
       "26"
      ]
     },
     "execution_count": 27,
     "metadata": {},
     "output_type": "execute_result"
    }
   ],
   "source": [
    "len(player_one.all_cards)"
   ]
  },
  {
   "cell_type": "code",
   "execution_count": 28,
   "id": "1f494201-8455-4a80-ae33-c78f23031776",
   "metadata": {},
   "outputs": [],
   "source": [
    "game_on = True"
   ]
  },
  {
   "cell_type": "code",
   "execution_count": 29,
   "id": "381c0fc9-ce16-4cda-92cd-12edce6c43c6",
   "metadata": {},
   "outputs": [
    {
     "name": "stdout",
     "output_type": "stream",
     "text": [
      "Round 1\n",
      "Round 2\n",
      "Round 3\n",
      "Round 4\n",
      "Round 5\n",
      "Round 6\n",
      "Round 7\n",
      "Round 8\n",
      "Round 9\n",
      "Round 10\n",
      "Round 11\n",
      "Round 12\n",
      "Round 13\n",
      "Round 14\n",
      "Round 15\n",
      "Round 16\n",
      "Round 17\n",
      "Round 18\n",
      "Round 19\n",
      "Round 20\n",
      "Round 21\n",
      "Round 22\n",
      "Round 23\n",
      "Round 24\n",
      "Round 25\n",
      "Round 26\n",
      "Round 27\n",
      "Round 28\n",
      "Round 29\n",
      "Round 30\n",
      "Round 31\n",
      "Round 32\n",
      "Round 33\n",
      "Round 34\n",
      "Round 35\n",
      "Round 36\n",
      "Round 37\n",
      "Round 38\n",
      "Round 39\n",
      "Round 40\n",
      "Round 41\n",
      "Round 42\n",
      "Round 43\n",
      "Round 44\n",
      "Round 45\n",
      "Round 46\n",
      "Round 47\n",
      "Round 48\n",
      "Player One cannot play war. Game over!\n",
      "PLAYER TWO WINS!!\n"
     ]
    }
   ],
   "source": [
    "round = 0 \n",
    "while game_on:\n",
    "    round+= 1\n",
    "    print(f\"Round {round}\")\n",
    "    if len(player_one.all_cards) == 0 :\n",
    "        print(\"Player one out of cards. Game over!!\")\n",
    "        print(\"PLAYER TWO WINS!!\")\n",
    "        game_on = False\n",
    "        break\n",
    "\n",
    "    if len(player_two.all_cards) == 0 :\n",
    "        print(\"Player two out of cards. Game over!!\")\n",
    "        print(\"PLAYER ONE WINS!!\")\n",
    "        game_on = False\n",
    "        break\n",
    "\n",
    "    player_one_cards = []\n",
    "    player_one_cards.append(player_one.remove_card())\n",
    "\n",
    "    player_two_cards = []\n",
    "    player_two_cards.append(player_two.remove_card())\n",
    "\n",
    "\n",
    "\n",
    "    at_war = True\n",
    "\n",
    "    \n",
    "    while at_war:\n",
    "        if player_one_cards[-1].value > player_two_cards[-1].value:\n",
    "            player_one.add_cards(player_one_cards)\n",
    "            player_one.add_cards(player_two_cards)\n",
    "            at_war = False\n",
    "\n",
    "         \n",
    "        elif player_one_cards[-1].value < player_two_cards[-1].value:\n",
    "            player_two.add_cards(player_one_cards)\n",
    "            player_two.add_cards(player_two_cards)\n",
    "            at_war = False\n",
    "\n",
    "        else :\n",
    "            if len(player_one.all_cards) < 7 :\n",
    "                print(\"Player One cannot play war. Game over!\")\n",
    "                print(\"PLAYER TWO WINS!!\")\n",
    "                game_on = False\n",
    "                break\n",
    "\n",
    "            elif len(player_two.all_cards) < 7 :\n",
    "                print(\"Player two cannot play war. Game over!\")\n",
    "                print(\"PLAYER ONE WINS!!\")\n",
    "                game_on = False\n",
    "                break\n",
    "\n",
    "            else :\n",
    "                for x in range(7):\n",
    "                    player_one_cards.append(player_one.remove_card())\n",
    "                    player_two_cards.append(player_two.remove_card())\n",
    "                    \n",
    "            \n",
    "\n",
    "                \n",
    "     \n",
    "    "
   ]
  },
  {
   "cell_type": "code",
   "execution_count": null,
   "id": "f31b32ee-74b9-447b-9297-f8192ebbd20a",
   "metadata": {},
   "outputs": [],
   "source": []
  }
 ],
 "metadata": {
  "kernelspec": {
   "display_name": "Python 3 (ipykernel)",
   "language": "python",
   "name": "python3"
  },
  "language_info": {
   "codemirror_mode": {
    "name": "ipython",
    "version": 3
   },
   "file_extension": ".py",
   "mimetype": "text/x-python",
   "name": "python",
   "nbconvert_exporter": "python",
   "pygments_lexer": "ipython3",
   "version": "3.12.2"
  }
 },
 "nbformat": 4,
 "nbformat_minor": 5
}
